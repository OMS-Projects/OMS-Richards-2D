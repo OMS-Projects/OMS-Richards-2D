{
 "cells": [
  {
   "cell_type": "markdown",
   "metadata": {},
   "source": [
    "# README\n",
    "\n",
    "    -Author: Niccolò Tubini and Riccardo Rigon\n",
    "    -License: Creative Commons 4.0\n",
    "    \n",
    "    "
   ]
  },
  {
   "cell_type": "markdown",
   "metadata": {},
   "source": [
    "## Before starting\n",
    "\n",
    "`$ conda install -c anaconda netcdf4`\n",
    "\n",
    "`$ conda install -c anaconda bokeh`\n",
    "\n",
    "\n",
    "## Folder structure\n",
    "- **data**\n",
    "    contains input data\n",
    "    \n",
    "`/msh`: containing grid file obtained with FreeFem or equivalent software\n",
    "\n",
    "`/Timeseries`: .csv file containing the timeseries used for the boundary conditions. These files have to be formatted as:\n",
    "\n",
    "    @T,table\n",
    "    Created,2016-11-08 19:32\n",
    "    Author,HortonMachine library\n",
    "    @H,timestamp,value,value\n",
    "    ID,,10,20\n",
    "    Type,Date,Double\n",
    "    Format,yyyy-MM-dd HH:mm,,\n",
    "    \n",
    "- **Jupyter_Notebook**\n",
    "    contains the notebook for pre-processing and post-processing\n",
    "\n",
    "- **lib**\n",
    "    contains .jar file to run the simulations\n",
    "    \n",
    "- **docs**\n",
    "    contains a brief documentation of this documentation\n",
    "    \n",
    "- **output**\n",
    "    contains the output of the simulations\n",
    "    \n",
    "- **simulation**\n",
    "    contains the `.sim` file\n",
    "    \n",
    "## Notebooks\n",
    "\n",
    "The python scripts used in the notebooks are contained in some python files that are imported in the notebook running these lines:\n",
    "    \n",
    "`%%capture`\n",
    "    \n",
    "`%run file_name.py`\n",
    "\n",
    "This file has to be in the same folder of the notebook and you can import only one file per notebook.\n",
    "\n",
    "### Notebook contents\n",
    "\n",
    "- **0_How_to_Read_NetCDF**\n",
    "    A smooth introduction to NetCDF file format and to handle them\n",
    "    \n",
    "- **1_Richards2DOutput**\n",
    "   Notebook to visualize the output of the simulation. \n"
   ]
  },
  {
   "cell_type": "code",
   "execution_count": null,
   "metadata": {},
   "outputs": [],
   "source": []
  }
 ],
 "metadata": {
  "kernelspec": {
   "display_name": "Python 3",
   "language": "python",
   "name": "python3"
  },
  "language_info": {
   "codemirror_mode": {
    "name": "ipython",
    "version": 3
   },
   "file_extension": ".py",
   "mimetype": "text/x-python",
   "name": "python",
   "nbconvert_exporter": "python",
   "pygments_lexer": "ipython3",
   "version": "3.7.3"
  }
 },
 "nbformat": 4,
 "nbformat_minor": 2
}
